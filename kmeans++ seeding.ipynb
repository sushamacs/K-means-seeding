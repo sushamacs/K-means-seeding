{
 "cells": [
  {
   "cell_type": "code",
   "execution_count": 1,
   "metadata": {},
   "outputs": [],
   "source": [
    "import time\n",
    "start_time = time.time()\n",
    "import pandas as pd\n",
    "import numpy as np\n",
    "import random as rd\n",
    "import matplotlib.pyplot as plt\n",
    "from random import choices"
   ]
  },
  {
   "cell_type": "code",
   "execution_count": 2,
   "metadata": {},
   "outputs": [],
   "source": [
    "def Dsq_init(df):\n",
    "    centroid = data.sample()\n",
    "    while centroid.shape[0]<6:\n",
    "        min_dist = euclid_dist(df,centroid)\n",
    "        prob = list()\n",
    "        for i in range(df.shape[0]):\n",
    "            prob.append((min_dist[i]**2)/np.sum(min_dist**2))\n",
    "        #df[\"prob\"] = prob\n",
    "        id = choices(df.index.values.tolist(),prob)\n",
    "        centroid = centroid.append(df.iloc[id,:])\n",
    "    \n",
    "    return centroid"
   ]
  },
  {
   "cell_type": "code",
   "execution_count": 3,
   "metadata": {},
   "outputs": [],
   "source": [
    "def euclid_dist(df1,df2):\n",
    "    dist_mat = np.zeros(shape = (df1.shape[0],df2.shape[0]))\n",
    "    for id1,row1 in df1.iterrows():\n",
    "        j = 0\n",
    "        for id2,row2 in df2.iterrows():\n",
    "            a = [row1[\"X\"]-row2[\"X\"],row1[\"Y\"]-row2[\"Y\"]]\n",
    "            dist_mat[id1][j] =  np.linalg.norm(a)\n",
    "            j += 1\n",
    "    min_dist = dist_mat.min(axis=1)\n",
    "    return min_dist\n",
    "\n"
   ]
  },
  {
   "cell_type": "code",
   "execution_count": 4,
   "metadata": {},
   "outputs": [
    {
     "data": {
      "text/plain": [
       "(401, 2)"
      ]
     },
     "execution_count": 4,
     "metadata": {},
     "output_type": "execute_result"
    }
   ],
   "source": [
    "N=100\n",
    "mean = np.matrix([[3,3],[0,3],[3,0],[0,0]])\n",
    "data = np.matrix([[0,0]])\n",
    "for i in range(mean.shape[0]):\n",
    "    normal_2D = np.random.standard_normal((2,N))\n",
    "    fin = normal_2D.T + mean[i]\n",
    "    data = np.vstack([data,fin])\n",
    "\n",
    "data.shape"
   ]
  },
  {
   "cell_type": "code",
   "execution_count": 5,
   "metadata": {},
   "outputs": [],
   "source": [
    "data = pd.DataFrame(data[1:,:], columns = ['X','Y'])"
   ]
  },
  {
   "cell_type": "code",
   "execution_count": 6,
   "metadata": {},
   "outputs": [],
   "source": [
    "centres = Dsq_init(data)\n",
    "rand_centres = data.sample(4)"
   ]
  },
  {
   "cell_type": "code",
   "execution_count": 7,
   "metadata": {},
   "outputs": [
    {
     "data": {
      "text/plain": [
       "<matplotlib.collections.PathCollection at 0x7f7920760460>"
      ]
     },
     "execution_count": 7,
     "metadata": {},
     "output_type": "execute_result"
    },
    {
     "data": {
      "image/png": "[encoded data removed]",
      "text/plain": [
       "<Figure size 432x288 with 1 Axes>"
      ]
     },
     "metadata": {
      "needs_background": "light"
     },
     "output_type": "display_data"
    }
   ],
   "source": [
    "plt.scatter(data['X'],data['Y'])\n",
    "plt.scatter(centres['X'],centres['Y'],c='r')\n",
    "plt.scatter(rand_centres['X'],rand_centres['Y'],c='black')"
   ]
  },
  {
   "cell_type": "code",
   "execution_count": 8,
   "metadata": {},
   "outputs": [],
   "source": [
    "def k_means_fit(X,centroids, n = 4):\n",
    "    #get a copy of the original data\n",
    "    X_data = X\n",
    "    \n",
    "    \n",
    "    diff = 1\n",
    "    j=0\n",
    "\n",
    "    while(diff!=0):\n",
    "\n",
    "        #creating a copy of the original dataframe\n",
    "        i=1\n",
    "\n",
    "        #iterate over each centroid point \n",
    "        for index1,row_c in centroids.iterrows():\n",
    "            ED=[]\n",
    "\n",
    "            #iterate over each data point\n",
    "            for index2,row_d in X_data.iterrows():\n",
    "\n",
    "                #calculate distance between current point and centroid\n",
    "                d1=(row_c[\"X\"]-row_d[\"X\"])**2\n",
    "                d2=(row_c[\"Y\"]-row_d[\"Y\"])**2\n",
    "                d=np.sqrt(d1+d2)\n",
    "\n",
    "                #append distance in a list 'ED'\n",
    "                ED.append(d)\n",
    "\n",
    "            #append distace for a centroid in original data frame\n",
    "            X[i]=ED\n",
    "            i=i+1\n",
    "\n",
    "        C=[]\n",
    "        for index,row in X.iterrows():\n",
    "\n",
    "            #get distance from centroid of current data point\n",
    "            min_dist=row[1]\n",
    "            pos=1\n",
    "\n",
    "            #loop to locate the closest centroid to current point\n",
    "            for i in range(n):\n",
    "\n",
    "                #if current distance is greater than that of other centroids\n",
    "                if row[i+1] < min_dist:\n",
    "\n",
    "                    #the smaller distanc becomes the minimum distance \n",
    "                    min_dist = row[i+1]\n",
    "                    pos=i+1\n",
    "            C.append(pos)\n",
    "\n",
    "        #assigning the closest cluster to each data point\n",
    "        X[\"Cluster\"]=C\n",
    "\n",
    "        #grouping each cluster by their mean value to create new centroids\n",
    "        centroids_new = X.groupby([\"Cluster\"]).mean()[[\"Y\",\"X\"]]\n",
    "        if j == 0:\n",
    "            diff=1\n",
    "            j=j+1\n",
    "\n",
    "        else:\n",
    "            #check if there is a difference between old and new centroids\n",
    "            diff = (centroids_new['Y'] - centroids['Y']).sum() + (centroids_new['X'] - centroids['X']).sum()\n",
    "            #print(diff.sum())\n",
    "\n",
    "        centroids = X.groupby([\"Cluster\"]).mean()[[\"Y\",\"X\"]]\n",
    "        \n",
    "    return X, centroids\n"
   ]
  },
  {
   "cell_type": "code",
   "execution_count": 9,
   "metadata": {},
   "outputs": [
    {
     "name": "stdout",
     "output_type": "stream",
     "text": [
      "                Y         X\n",
      "Cluster                    \n",
      "1        0.154616  2.895580\n",
      "2        0.114692  0.081108\n",
      "3        3.070122 -0.248306\n",
      "4        2.988498  3.019064\n"
     ]
    }
   ],
   "source": [
    "\n",
    "centroids = data.sample(4)\n",
    "clustered, cent = k_means_fit(data,centroids, n= 4)\n",
    "print(cent)"
   ]
  },
  {
   "cell_type": "code",
   "execution_count": 10,
   "metadata": {},
   "outputs": [
    {
     "data": {
      "text/plain": [
       "Text(0, 0.5, 'Y')"
      ]
     },
     "execution_count": 10,
     "metadata": {},
     "output_type": "execute_result"
    },
    {
     "data": {
      "image/png": "[encoded data removed]",
      "text/plain": [
       "<Figure size 432x288 with 1 Axes>"
      ]
     },
     "metadata": {
      "needs_background": "light"
     },
     "output_type": "display_data"
    }
   ],
   "source": [
    "color=['brown','blue','green','cyan']\n",
    "\n",
    "#plot data\n",
    "for k in range(len(color)):\n",
    "    cluster=clustered[clustered[\"Cluster\"]==k+1]\n",
    "    plt.scatter(cluster[\"X\"],cluster[\"Y\"],c=color[k])\n",
    "    \n",
    "#plot centroids    \n",
    "plt.scatter(cent[\"X\"],cent[\"Y\"],c='red')\n",
    "plt.xlabel('X')\n",
    "plt.ylabel('Y')"
   ]
  },
  {
   "cell_type": "code",
   "execution_count": 11,
   "metadata": {},
   "outputs": [
    {
     "name": "stdout",
     "output_type": "stream",
     "text": [
      "                Y         X\n",
      "Cluster                    \n",
      "1        0.147012  2.910349\n",
      "2        0.096107  0.115767\n",
      "3        2.988498  3.019064\n",
      "4        3.037717 -0.263952\n"
     ]
    }
   ],
   "source": [
    "centres = Dsq_init(data)\n",
    "clustered, cent1 = k_means_fit(data,centres, n= 4)\n",
    "print(cent1)"
   ]
  },
  {
   "cell_type": "code",
   "execution_count": 12,
   "metadata": {},
   "outputs": [
    {
     "data": {
      "text/plain": [
       "Text(0, 0.5, 'Y')"
      ]
     },
     "execution_count": 12,
     "metadata": {},
     "output_type": "execute_result"
    },
    {
     "data": {
      "image/png": "[encoded data removed]",
      "text/plain": [
       "<Figure size 432x288 with 1 Axes>"
      ]
     },
     "metadata": {
      "needs_background": "light"
     },
     "output_type": "display_data"
    }
   ],
   "source": [
    "color=['brown','blue','green','cyan']\n",
    "\n",
    "#plot data\n",
    "for k in range(len(color)):\n",
    "    cluster=clustered[clustered[\"Cluster\"]==k+1]\n",
    "    plt.scatter(cluster[\"X\"],cluster[\"Y\"],c=color[k])\n",
    "    \n",
    "#plot centroids    \n",
    "plt.scatter(cent[\"X\"],cent[\"Y\"],c='red')\n",
    "plt.xlabel('X')\n",
    "plt.ylabel('Y')"
   ]
  },
  {
   "cell_type": "code",
   "execution_count": 13,
   "metadata": {},
   "outputs": [],
   "source": [
    "data1 = pd.read_csv(\"500_Person_Gender_Height_Weight_Index.csv\")\n",
    "data1.rename(columns = {\"Height\": \"X\", \"Weight\": \"Y\"},inplace = True)"
   ]
  },
  {
   "cell_type": "code",
   "execution_count": 14,
   "metadata": {},
   "outputs": [
    {
     "name": "stdout",
     "output_type": "stream",
     "text": [
      "                  Y           X\n",
      "Cluster                        \n",
      "1         66.236842  155.723684\n",
      "2        143.022222  155.888889\n",
      "3         69.024390  184.231707\n",
      "4        100.121951  155.756098\n",
      "5        108.967391  183.858696\n",
      "6        143.576923  183.500000\n"
     ]
    }
   ],
   "source": [
    "centroids = data1.sample(6)\n",
    "clustered, cent = k_means_fit(data1,centroids, n= 6)\n",
    "print(cent)"
   ]
  },
  {
   "cell_type": "code",
   "execution_count": 15,
   "metadata": {},
   "outputs": [
    {
     "data": {
      "text/plain": [
       "Text(0, 0.5, 'Y')"
      ]
     },
     "execution_count": 15,
     "metadata": {},
     "output_type": "execute_result"
    },
    {
     "data": {
      "image/png": "[encoded data removed]",
      "text/plain": [
       "<Figure size 432x288 with 1 Axes>"
      ]
     },
     "metadata": {
      "needs_background": "light"
     },
     "output_type": "display_data"
    }
   ],
   "source": [
    "color=['brown','blue','green','cyan','black','y']\n",
    "\n",
    "#plot data\n",
    "for k in range(len(color)):\n",
    "    cluster=clustered[clustered[\"Cluster\"]==k+1]\n",
    "    plt.scatter(cluster[\"X\"],cluster[\"Y\"],c=color[k])\n",
    "    \n",
    "#plot centroids    \n",
    "plt.scatter(cent[\"X\"],cent[\"Y\"],c='red')\n",
    "plt.xlabel('X')\n",
    "plt.ylabel('Y')"
   ]
  },
  {
   "cell_type": "code",
   "execution_count": 16,
   "metadata": {},
   "outputs": [
    {
     "name": "stdout",
     "output_type": "stream",
     "text": [
      "                  Y           X\n",
      "Cluster                        \n",
      "1        103.244681  182.776596\n",
      "2         70.595506  154.460674\n",
      "3        140.722892  184.927711\n",
      "4         66.487179  183.564103\n",
      "5        145.623529  156.752941\n",
      "6        109.408451  155.676056\n"
     ]
    }
   ],
   "source": [
    "centres = Dsq_init(data1)\n",
    "clustered, cent1 = k_means_fit(data1,centres, n= 6)\n",
    "print(cent1)"
   ]
  },
  {
   "cell_type": "code",
   "execution_count": 17,
   "metadata": {},
   "outputs": [
    {
     "data": {
      "text/plain": [
       "Text(0, 0.5, 'Y')"
      ]
     },
     "execution_count": 17,
     "metadata": {},
     "output_type": "execute_result"
    },
    {
     "data": {
      "image/png": "[encoded data removed]",
      "text/plain": [
       "<Figure size 432x288 with 1 Axes>"
      ]
     },
     "metadata": {
      "needs_background": "light"
     },
     "output_type": "display_data"
    }
   ],
   "source": [
    "color=['brown','blue','green','cyan','black','y']\n",
    "\n",
    "#plot data\n",
    "for k in range(len(color)):\n",
    "    cluster=clustered[clustered[\"Cluster\"]==k+1]\n",
    "    plt.scatter(cluster[\"X\"],cluster[\"Y\"],c=color[k])\n",
    "    \n",
    "#plot centroids    \n",
    "plt.scatter(cent1[\"X\"],cent1[\"Y\"],c='red')\n",
    "plt.xlabel('X')\n",
    "plt.ylabel('Y')"
   ]
  },
  {
   "cell_type": "code",
   "execution_count": 18,
   "metadata": {},
   "outputs": [
    {
     "data": {
      "text/plain": [
       "6210.514330880399"
      ]
     },
     "execution_count": 18,
     "metadata": {},
     "output_type": "execute_result"
    }
   ],
   "source": [
    "np.sum(euclid_dist(data1,cent))\n"
   ]
  },
  {
   "cell_type": "code",
   "execution_count": 19,
   "metadata": {},
   "outputs": [
    {
     "data": {
      "text/plain": [
       "6195.41844773171"
      ]
     },
     "execution_count": 19,
     "metadata": {},
     "output_type": "execute_result"
    }
   ],
   "source": [
    "np.sum(euclid_dist(data1,cent1))"
   ]
  },
  {
   "cell_type": "code",
   "execution_count": 20,
   "metadata": {},
   "outputs": [],
   "source": [
    "data = pd.read_csv(\"500_Person_Gender_Height_Weight_Index.csv\")\n",
    "data.rename(columns = {\"Height\": \"X\", \"Weight\": \"Y\"},inplace = True)"
   ]
  },
  {
   "cell_type": "code",
   "execution_count": 21,
   "metadata": {},
   "outputs": [],
   "source": [
    "def k_means(data,k):\n",
    "    # k = int(input(\"No, of Clusters: \"))\n",
    "    centroids = data.sample(k)\n",
    "    clustered, cent = k_means_fit(data,centroids, k)\n",
    "    \n",
    "    color=['brown','blue','green','cyan','black','y']\n",
    "\n",
    "    # #plot data\n",
    "    # for k in range(len(color)):\n",
    "    #     cluster=clustered[clustered[\"Cluster\"]==k+1]\n",
    "    #     plt.scatter(cluster[\"X\"],cluster[\"Y\"],c=color[k])\n",
    "        \n",
    "    # #plot centroids    \n",
    "    # plt.scatter(cent[\"X\"],cent[\"Y\"],c='red')\n",
    "    # plt.xlabel('X')\n",
    "    # plt.ylabel('Y')\n",
    "\n",
    "    cost = np.sum(euclid_dist(data,cent))\n",
    "\n",
    "    return cost"
   ]
  },
  {
   "cell_type": "code",
   "execution_count": 26,
   "metadata": {},
   "outputs": [],
   "source": [
    "def k_means_Dsq(data,k):\n",
    "    #k = int(input(\"No, of Clusters: \"))\n",
    "    centroids = Dsq_init(data,k)\n",
    "    clustered, cent = k_means_fit(data,centroids, k)\n",
    "    \n",
    "    color=['brown','blue','green','cyan','black','y']\n",
    "\n",
    "    # #plot data\n",
    "    # for k in range(len(color)):\n",
    "    #     cluster=clustered[clustered[\"Cluster\"]==k+1]\n",
    "    #     plt.scatter(cluster[\"X\"],cluster[\"Y\"],c=color[k])\n",
    "        \n",
    "    # #plot centroids    \n",
    "    # plt.scatter(cent[\"X\"],cent[\"Y\"],c='red')\n",
    "    # plt.xlabel('X')\n",
    "    # plt.ylabel('Y')\n",
    "\n",
    "    cost = np.sum(euclid_dist(data,cent))\n",
    "\n",
    "    return cost"
   ]
  },
  {
   "cell_type": "code",
   "execution_count": 29,
   "metadata": {},
   "outputs": [
    {
     "ename": "TypeError",
     "evalue": "Dsq_init() takes 1 positional argument but 2 were given",
     "output_type": "error",
     "traceback": [
      "\u001b[0;31m---------------------------------------------------------------------------\u001b[0m",
      "\u001b[0;31mTypeError\u001b[0m                                 Traceback (most recent call last)",
      "\u001b[0;32m<ipython-input-29-27e4bba1755e>\u001b[0m in \u001b[0;36m<module>\u001b[0;34m\u001b[0m\n\u001b[1;32m      7\u001b[0m     \u001b[0mt1\u001b[0m\u001b[0;34m.\u001b[0m\u001b[0mappend\u001b[0m\u001b[0;34m(\u001b[0m\u001b[0mtime\u001b[0m\u001b[0;34m.\u001b[0m\u001b[0mtime\u001b[0m\u001b[0;34m(\u001b[0m\u001b[0;34m)\u001b[0m \u001b[0;34m-\u001b[0m \u001b[0mstart_time\u001b[0m\u001b[0;34m)\u001b[0m\u001b[0;34m\u001b[0m\u001b[0;34m\u001b[0m\u001b[0m\n\u001b[1;32m      8\u001b[0m     \u001b[0mstart_time2\u001b[0m \u001b[0;34m=\u001b[0m \u001b[0mtime\u001b[0m\u001b[0;34m.\u001b[0m\u001b[0mtime\u001b[0m\u001b[0;34m(\u001b[0m\u001b[0;34m)\u001b[0m\u001b[0;34m\u001b[0m\u001b[0;34m\u001b[0m\u001b[0m\n\u001b[0;32m----> 9\u001b[0;31m     \u001b[0mcost_Dsq\u001b[0m\u001b[0;34m.\u001b[0m\u001b[0mappend\u001b[0m\u001b[0;34m(\u001b[0m\u001b[0mk_means_Dsq\u001b[0m\u001b[0;34m(\u001b[0m\u001b[0mdata\u001b[0m\u001b[0;34m,\u001b[0m\u001b[0mk\u001b[0m\u001b[0;34m)\u001b[0m\u001b[0;34m)\u001b[0m\u001b[0;34m\u001b[0m\u001b[0;34m\u001b[0m\u001b[0m\n\u001b[0m\u001b[1;32m     10\u001b[0m     \u001b[0mt2\u001b[0m\u001b[0;34m.\u001b[0m\u001b[0mappend\u001b[0m\u001b[0;34m(\u001b[0m\u001b[0mtime\u001b[0m\u001b[0;34m.\u001b[0m\u001b[0mtime\u001b[0m\u001b[0;34m(\u001b[0m\u001b[0;34m)\u001b[0m \u001b[0;34m-\u001b[0m \u001b[0mstart_time2\u001b[0m\u001b[0;34m)\u001b[0m\u001b[0;34m\u001b[0m\u001b[0;34m\u001b[0m\u001b[0m\n\u001b[1;32m     11\u001b[0m     \u001b[0mprint\u001b[0m\u001b[0;34m(\u001b[0m\u001b[0mcost_kmeans\u001b[0m\u001b[0;34m[\u001b[0m\u001b[0mi\u001b[0m\u001b[0;34m]\u001b[0m\u001b[0;34m,\u001b[0m\u001b[0;34m\"\\t\"\u001b[0m\u001b[0;34m,\u001b[0m \u001b[0mt1\u001b[0m\u001b[0;34m[\u001b[0m\u001b[0mi\u001b[0m\u001b[0;34m]\u001b[0m\u001b[0;34m,\u001b[0m\u001b[0;34m\"\\t\"\u001b[0m\u001b[0;34m,\u001b[0m\u001b[0mcost_Dsq\u001b[0m\u001b[0;34m[\u001b[0m\u001b[0mi\u001b[0m\u001b[0;34m]\u001b[0m\u001b[0;34m,\u001b[0m\u001b[0;34m\"\\t\"\u001b[0m\u001b[0;34m,\u001b[0m\u001b[0mt2\u001b[0m\u001b[0;34m[\u001b[0m\u001b[0mi\u001b[0m\u001b[0;34m]\u001b[0m\u001b[0;34m)\u001b[0m\u001b[0;34m\u001b[0m\u001b[0;34m\u001b[0m\u001b[0m\n",
      "\u001b[0;32m<ipython-input-26-542acddd02d0>\u001b[0m in \u001b[0;36mk_means_Dsq\u001b[0;34m(data, k)\u001b[0m\n\u001b[1;32m      1\u001b[0m \u001b[0;32mdef\u001b[0m \u001b[0mk_means_Dsq\u001b[0m\u001b[0;34m(\u001b[0m\u001b[0mdata\u001b[0m\u001b[0;34m,\u001b[0m\u001b[0mk\u001b[0m\u001b[0;34m)\u001b[0m\u001b[0;34m:\u001b[0m\u001b[0;34m\u001b[0m\u001b[0;34m\u001b[0m\u001b[0m\n\u001b[1;32m      2\u001b[0m     \u001b[0;31m#k = int(input(\"No, of Clusters: \"))\u001b[0m\u001b[0;34m\u001b[0m\u001b[0;34m\u001b[0m\u001b[0;34m\u001b[0m\u001b[0m\n\u001b[0;32m----> 3\u001b[0;31m     \u001b[0mcentroids\u001b[0m \u001b[0;34m=\u001b[0m \u001b[0mDsq_init\u001b[0m\u001b[0;34m(\u001b[0m\u001b[0mdata\u001b[0m\u001b[0;34m,\u001b[0m\u001b[0mk\u001b[0m\u001b[0;34m)\u001b[0m\u001b[0;34m\u001b[0m\u001b[0;34m\u001b[0m\u001b[0m\n\u001b[0m\u001b[1;32m      4\u001b[0m     \u001b[0mclustered\u001b[0m\u001b[0;34m,\u001b[0m \u001b[0mcent\u001b[0m \u001b[0;34m=\u001b[0m \u001b[0mk_means_fit\u001b[0m\u001b[0;34m(\u001b[0m\u001b[0mdata\u001b[0m\u001b[0;34m,\u001b[0m\u001b[0mcentroids\u001b[0m\u001b[0;34m,\u001b[0m \u001b[0mk\u001b[0m\u001b[0;34m)\u001b[0m\u001b[0;34m\u001b[0m\u001b[0;34m\u001b[0m\u001b[0m\n\u001b[1;32m      5\u001b[0m \u001b[0;34m\u001b[0m\u001b[0m\n",
      "\u001b[0;31mTypeError\u001b[0m: Dsq_init() takes 1 positional argument but 2 were given"
     ]
    }
   ],
   "source": [
    "cost_kmeans = []\n",
    "cost_Dsq = []\n",
    "t1, t2 = [], []\n",
    "for i in range(4):\n",
    "    start_time = time.time()\n",
    "    cost_kmeans.append(k_means(data,k))\n",
    "    t1.append(time.time() - start_time)\n",
    "    start_time2 = time.time()\n",
    "    cost_Dsq.append(k_means_Dsq(data,k))\n",
    "    t2.append(time.time() - start_time2)\n",
    "    print(cost_kmeans[i],\"\\t\", t1[i],\"\\t\",cost_Dsq[i],\"\\t\",t2[i])"
   ]
  },
  {
   "cell_type": "code",
   "execution_count": null,
   "metadata": {},
   "outputs": [],
   "source": []
  }
 ],
 "metadata": {
  "interpreter": {
   "hash": "9c1d554bbbf5939e85784b545543330c9c662cffcdb9e2fa11929ee44fe0ea0d"
  },
  "kernelspec": {
   "display_name": "Python 3",
   "language": "python",
   "name": "python3"
  },
  "language_info": {
   "codemirror_mode": {
    "name": "ipython",
    "version": 3
   },
   "file_extension": ".py",
   "mimetype": "text/x-python",
   "name": "python",
   "nbconvert_exporter": "python",
   "pygments_lexer": "ipython3",
   "version": "3.8.8"
  }
 },
 "nbformat": 4,
 "nbformat_minor": 2
}
